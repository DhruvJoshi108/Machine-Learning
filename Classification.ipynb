{
 "cells": [
  {
   "cell_type": "code",
   "execution_count": 18,
   "id": "c937253e",
   "metadata": {},
   "outputs": [],
   "source": [
    "import pandas as pd\n",
    "import numpy as np\n",
    "import re\n",
    "import matplotlib.pyplot as plt\n",
    "%matplotlib inline\n",
    "from sklearn.model_selection import train_test_split\n",
    "from sklearn.feature_extraction.text import TfidfVectorizer\n",
    "from sklearn.metrics import accuracy_score\n",
    "from sklearn.naive_bayes import MultinomialNB\n",
    "from sklearn.linear_model import LogisticRegression\n",
    "from sklearn.tree import DecisionTreeClassifier\n",
    "from sklearn.ensemble import RandomForestClassifier\n",
    "from sklearn.neighbors import KNeighborsClassifier"
   ]
  },
  {
   "cell_type": "code",
   "execution_count": 2,
   "id": "197cbad4",
   "metadata": {},
   "outputs": [],
   "source": [
    "df = pd.read_csv(\"D:/ML Data Sets/test.csv\")\n",
    "df['text'] = df['title'].fillna('') + ' ' + df['description'].fillna('')\n",
    "\n",
    "def clean_text(text):\n",
    "    text = str(text).lower()  \n",
    "    text = re.sub(r'[^a-z\\s]', '', text)  \n",
    "    return re.sub(r'\\s+', ' ', text).strip()  \n",
    "\n",
    "df['text'] = df['text'].apply(clean_text)"
   ]
  },
  {
   "cell_type": "code",
   "execution_count": 3,
   "id": "e37139d7",
   "metadata": {},
   "outputs": [
    {
     "data": {
      "text/html": [
       "<div>\n",
       "<style scoped>\n",
       "    .dataframe tbody tr th:only-of-type {\n",
       "        vertical-align: middle;\n",
       "    }\n",
       "\n",
       "    .dataframe tbody tr th {\n",
       "        vertical-align: top;\n",
       "    }\n",
       "\n",
       "    .dataframe thead th {\n",
       "        text-align: right;\n",
       "    }\n",
       "</style>\n",
       "<table border=\"1\" class=\"dataframe\">\n",
       "  <thead>\n",
       "    <tr style=\"text-align: right;\">\n",
       "      <th></th>\n",
       "      <th>ImgId</th>\n",
       "      <th>title</th>\n",
       "      <th>description</th>\n",
       "      <th>text</th>\n",
       "    </tr>\n",
       "  </thead>\n",
       "  <tbody>\n",
       "    <tr>\n",
       "      <th>0</th>\n",
       "      <td>B0006IK25E</td>\n",
       "      <td>Jacquard Textile Paint 2.25 Oz Pink</td>\n",
       "      <td>Jacquard Textile Pink Color in 2.25 ounces can...</td>\n",
       "      <td>jacquard textile paint oz pink jacquard textil...</td>\n",
       "    </tr>\n",
       "    <tr>\n",
       "      <th>1</th>\n",
       "      <td>B000GBRO16</td>\n",
       "      <td>Fimo Soft Polymer Clay 2 Ounces-8020-33 Brilli...</td>\n",
       "      <td>Fimo Soft Polymer Clay is easier to use than b...</td>\n",
       "      <td>fimo soft polymer clay ounces brilliant blue f...</td>\n",
       "    </tr>\n",
       "    <tr>\n",
       "      <th>2</th>\n",
       "      <td>B000H6OZGW</td>\n",
       "      <td>Sculpey III 2 Oz. Polymer Clay: Pale Pistachio</td>\n",
       "      <td>Sculpey 3 Polymer Clay is America's original o...</td>\n",
       "      <td>sculpey iii oz polymer clay pale pistachio scu...</td>\n",
       "    </tr>\n",
       "    <tr>\n",
       "      <th>3</th>\n",
       "      <td>B000BR28KC</td>\n",
       "      <td>Sennelier Soft Pastel Turquoise Green 724</td>\n",
       "      <td>Handmade since 1900 Sennelier extra-fine soft ...</td>\n",
       "      <td>sennelier soft pastel turquoise green handmade...</td>\n",
       "    </tr>\n",
       "    <tr>\n",
       "      <th>4</th>\n",
       "      <td>B0006IK27M</td>\n",
       "      <td>Jacquard Textile Colors sapphire blue</td>\n",
       "      <td>JACQUARD TEXTILE COLORS FABRIC PAINT - These e...</td>\n",
       "      <td>jacquard textile colors sapphire blue jacquard...</td>\n",
       "    </tr>\n",
       "  </tbody>\n",
       "</table>\n",
       "</div>"
      ],
      "text/plain": [
       "        ImgId                                              title  \\\n",
       "0  B0006IK25E                Jacquard Textile Paint 2.25 Oz Pink   \n",
       "1  B000GBRO16  Fimo Soft Polymer Clay 2 Ounces-8020-33 Brilli...   \n",
       "2  B000H6OZGW     Sculpey III 2 Oz. Polymer Clay: Pale Pistachio   \n",
       "3  B000BR28KC          Sennelier Soft Pastel Turquoise Green 724   \n",
       "4  B0006IK27M              Jacquard Textile Colors sapphire blue   \n",
       "\n",
       "                                         description  \\\n",
       "0  Jacquard Textile Pink Color in 2.25 ounces can...   \n",
       "1  Fimo Soft Polymer Clay is easier to use than b...   \n",
       "2  Sculpey 3 Polymer Clay is America's original o...   \n",
       "3  Handmade since 1900 Sennelier extra-fine soft ...   \n",
       "4  JACQUARD TEXTILE COLORS FABRIC PAINT - These e...   \n",
       "\n",
       "                                                text  \n",
       "0  jacquard textile paint oz pink jacquard textil...  \n",
       "1  fimo soft polymer clay ounces brilliant blue f...  \n",
       "2  sculpey iii oz polymer clay pale pistachio scu...  \n",
       "3  sennelier soft pastel turquoise green handmade...  \n",
       "4  jacquard textile colors sapphire blue jacquard...  "
      ]
     },
     "execution_count": 3,
     "metadata": {},
     "output_type": "execute_result"
    }
   ],
   "source": [
    "df.head()"
   ]
  },
  {
   "cell_type": "code",
   "execution_count": 4,
   "id": "16bf5bb4",
   "metadata": {},
   "outputs": [],
   "source": [
    "df['label'] = np.random.choice([0, 1, 2], size=len(df))"
   ]
  },
  {
   "cell_type": "code",
   "execution_count": 5,
   "id": "92e07318",
   "metadata": {},
   "outputs": [],
   "source": [
    "X_train, X_test, y_train, y_test = train_test_split(df['text'], df['label'], test_size=0.2, random_state=42)"
   ]
  },
  {
   "cell_type": "code",
   "execution_count": 6,
   "id": "8e0156ee",
   "metadata": {},
   "outputs": [],
   "source": [
    "vect = TfidfVectorizer(stop_words='english', max_features=3000)\n",
    "X_train_vec = vect.fit_transform(X_train)\n",
    "X_test_vec = vect.transform(X_test)\n"
   ]
  },
  {
   "cell_type": "code",
   "execution_count": 7,
   "id": "7428b09c",
   "metadata": {},
   "outputs": [],
   "source": [
    "# Naive Bayes\n",
    "nb = MultinomialNB()\n",
    "nb.fit(X_train_vec, y_train)\n",
    "nb_preds = nb.predict(X_test_vec)\n",
    "nb_acc = accuracy_score(y_test, nb_preds)"
   ]
  },
  {
   "cell_type": "code",
   "execution_count": 8,
   "id": "ef3aaf07",
   "metadata": {},
   "outputs": [],
   "source": [
    "#  Logistic Regression\n",
    "lr = LogisticRegression(max_iter=1000)\n",
    "lr.fit(X_train_vec, y_train)\n",
    "lr_preds = lr.predict(X_test_vec)\n",
    "lr_acc = accuracy_score(y_test, lr_preds)"
   ]
  },
  {
   "cell_type": "code",
   "execution_count": 9,
   "id": "d7258fcf",
   "metadata": {},
   "outputs": [],
   "source": [
    "#  Decision Tree\n",
    "dt = DecisionTreeClassifier()\n",
    "dt.fit(X_train_vec, y_train)\n",
    "dt_preds = dt.predict(X_test_vec)\n",
    "dt_acc = accuracy_score(y_test, dt_preds)"
   ]
  },
  {
   "cell_type": "code",
   "execution_count": 10,
   "id": "d4877e88",
   "metadata": {},
   "outputs": [],
   "source": [
    "# Random Forest\n",
    "rf = RandomForestClassifier()\n",
    "rf.fit(X_train_vec, y_train)\n",
    "rf_preds = rf.predict(X_test_vec)\n",
    "rf_acc = accuracy_score(y_test, rf_preds)"
   ]
  },
  {
   "cell_type": "code",
   "execution_count": 11,
   "id": "24f9f577",
   "metadata": {},
   "outputs": [],
   "source": [
    "#  K-Nearest Neighbors\n",
    "knn = KNeighborsClassifier()\n",
    "knn.fit(X_train_vec, y_train)\n",
    "knn_preds = knn.predict(X_test_vec)\n",
    "knn_acc = accuracy_score(y_test, knn_preds)"
   ]
  },
  {
   "cell_type": "code",
   "execution_count": 23,
   "id": "102c56dd",
   "metadata": {},
   "outputs": [
    {
     "data": {
      "text/plain": [
       "[0.35283018867924526,\n",
       " 0.3452830188679245,\n",
       " 0.3339622641509434,\n",
       " 0.344811320754717,\n",
       " 0.3424528301886792]"
      ]
     },
     "execution_count": 23,
     "metadata": {},
     "output_type": "execute_result"
    }
   ],
   "source": [
    "# Accuracy plot\n",
    "models = ['Naive Bayes', 'Logistic Regression', 'Decision Tree', 'Random Forest', 'KNN']\n",
    "accuracies = [nb_acc, lr_acc,rf_acc, dt_acc ,  knn_acc]\n",
    "accuracies"
   ]
  },
  {
   "cell_type": "code",
   "execution_count": 26,
   "id": "8f608d15",
   "metadata": {},
   "outputs": [
    {
     "data": {
      "image/png": "[encoded data removed]",
      "text/plain": [
       "<Figure size 1000x600 with 1 Axes>"
      ]
     },
     "metadata": {},
     "output_type": "display_data"
    }
   ],
   "source": [
    "plt.figure(figsize=(10, 6))\n",
    "plt.bar(models, accuracies, color='skyblue')\n",
    "plt.title(\"Model Accuracies\")\n",
    "plt.xlabel(\"Models\")\n",
    "plt.ylabel(\"Accuracy\")\n",
    "plt.xticks(rotation=30)\n",
    "plt.grid(axis='y', linestyle='--', alpha=0.7)\n",
    "plt.tight_layout()\n",
    "plt.show()\n"
   ]
  }
 ],
 "metadata": {
  "kernelspec": {
   "display_name": "Python 3",
   "language": "python",
   "name": "python3"
  },
  "language_info": {
   "codemirror_mode": {
    "name": "ipython",
    "version": 3
   },
   "file_extension": ".py",
   "mimetype": "text/x-python",
   "name": "python",
   "nbconvert_exporter": "python",
   "pygments_lexer": "ipython3",
   "version": "3.13.3"
  }
 },
 "nbformat": 4,
 "nbformat_minor": 5
}
